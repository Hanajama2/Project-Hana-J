{
 "cells": [
  {
   "attachments": {},
   "cell_type": "markdown",
   "metadata": {},
   "source": [
    "# Miniconda installation"
   ]
  },
  {
   "cell_type": "code",
   "execution_count": null,
   "metadata": {},
   "outputs": [],
   "source": [
    "# The -p flag prevents errors if the directory exists and creates parent directories if needed. \n",
    "mkdir -p ~/miniconda3 \n",
    "# use wget to download miniconda installer for linux (64-bit) \n",
    "wget https://repo.anaconda.com/miniconda/Miniconda3-latest-Linux-x86_64.sh -O ~/miniconda3/miniconda.sh\n",
    "#Run the downloaded file, script is executed by the bash command invoking it\n",
    "bash ~/miniconda3/miniconda.sh -b -u -p ~/miniconda3 \n",
    "# delete the file once installed for space to be freed up \n",
    "rm -rf ~/miniconda3/miniconda.sh # allows for the downloaded files that are no longer needed after installation to be deleted \n",
    "\n",
    "~/miniconda3/bin/conda init bash # initializing conda for the bash cell \n",
    " Close the shell and reopen \n",
    "#creating an environment \n",
    "conda create -n project_env python=3.9 -y\n",
    " conda activate project_env\n",
    "\t\n",
    "# adding channels to the conda environment \n",
    "conda config --add channels conda-forge \n",
    "conda config --add channels Bioconda\n",
    " conda config --add channels defaults\n",
    "# installing required packages \n",
    "conda install -c bioconda fastQC\n",
    "conda install -c bioconda quast\n",
    " conda install -c bioconda bbmap\n"
   ]
  },
  {
   "cell_type": "markdown",
   "metadata": {},
   "source": [
    "\n",
    "# Quality control filtering long reads "
   ]
  },
  {
   "cell_type": "code",
   "execution_count": null,
   "metadata": {},
   "outputs": [],
   "source": [
    "\n",
    "# making a directory named data\n",
    "mkdir data\n",
    "# changing into the newly created directory named data\n",
    "cd data\n",
    "# creating an output directory for the fastqc files \n",
    "mkdir -p fastqc_output\n",
    "# Fastqc being run on the long reads and paired-end short reads \n",
    "fastqc long_reads.fastq short_reads_1.fastq short_reads_2.fastq -o fastqc_output\n",
    "# installing the package nanofilt \n",
    "pip install nanofilt –upgrade\n",
    "# running nanofilt on the long reads, q-12 filters out long reads with an average quality score below 12 \n",
    "# -1 2000:filters out reads that are shorter than 2000 base pairs, the output is named cleaned_reads \n",
    "NanoFilt -q 12 -l 2000 < long_reads.fastq > cleaned_reads.fastq\n",
    "\n"
   ]
  },
  {
   "cell_type": "markdown",
   "metadata": {},
   "source": [
    "\n",
    "# BBmap for paired lengths being repaired "
   ]
  },
  {
   "cell_type": "code",
   "execution_count": null,
   "metadata": {},
   "outputs": [],
   "source": [
    "\n",
    "###previous spades run indicated an error for short read length bbmap will be used to fix this error \n",
    "# installing bbmap\n",
    "conda install bioconda::bbmap\n",
    "conda install bioconda/label/cf201901::bbmap\n",
    "# attempting to make the short reads the same length\n",
    "repair.sh in1=short_reads_1.fastq in2=short_reads_2.fastq out1=short_reads_1_fixed.fastq out2=short_reads_2_fixed. \n",
    "\n",
    "# checks the length of reads to see if they are the same. Different lengths were seen.\n",
    "grep -c \"^@\" short_reads_1_fixedd.fastq \n",
    "grep -c \"^@\" short_reads_2_fixedd.fastq\n",
    "#Second time trying the repair for the short reads \n",
    "repair.sh in1=short_reads_1_fixed.fastq in2=short_reads_2_fixed.fastq out1=short_reads_1_fixedd.fastq out2=short_reads_2_fixedd.fastq \n",
    "# code showed that the files were the same so now ready for assembly.\n",
    "grep -c \"^@\" short_reads_1_fixedd.fastq \n",
    "grep -c \"^@\" short_reads_2_fixedd.fastq"
   ]
  },
  {
   "cell_type": "markdown",
   "metadata": {},
   "source": [
    "# Spades assembly"
   ]
  },
  {
   "cell_type": "code",
   "execution_count": null,
   "metadata": {},
   "outputs": [],
   "source": [
    "\n",
    "# spades assembly for the long and short reads allowing for hybrid assembly, the careful parameter was used.\n",
    "spades.py \\\n",
    "  -1 short_reads_1_fixedd.fastq \\\n",
    "  -2 short_reads_2_fixedd.fastq \\\n",
    "  --nanopore cleaned_reads.fastq \\\n",
    "  -o spades_output \\\n",
    "  --careful \\\n",
    "  -t 8 \\\n",
    "  -m 64\n",
    "# Quast was used to look at the assembly statistics \n",
    "quast /home/hanaj/data/spades_output/contigs.fasta -o /home/hanaj/data/quast_output\n",
    "# The quast output showed multiple contigs so further cleaning was required \n",
    "\n"
   ]
  },
  {
   "cell_type": "markdown",
   "metadata": {},
   "source": [
    "# Racon polishing"
   ]
  },
  {
   "cell_type": "code",
   "execution_count": null,
   "metadata": {},
   "outputs": [],
   "source": [
    "# Creating and activating an environment for racon \n",
    "conda create -n racon_env python=3.9\n",
    "conda activate racon_env\n",
    "# installing racon through conda, used for polishing genome assemblies \n",
    "conda install racon\n",
    "# installing sam tools through conda \n",
    "conda install samtools\n",
    "# installing bwa through conda, package that maps low divergent sequences against a large genome reference \n",
    "conda install bwa\n",
    "# rapid aligner for sequences of long read data\n",
    "conda install -c bioconda minimap2\n",
    "# preparation of the alignments using bwa and samtools\n",
    "# converting to sequence alignment format\n",
    "samtools view -Sb alignment.sam > alignment.bam \n",
    "# sorts the alignment files\n",
    "samtools sort -o sorted_alignment.bam alignment.bam \n",
    "# sorting is essential before further analysis, this includes indexing and variant calling \n",
    "# index created for the bam sorted files \n",
    "samtools index sorted_alignment.bam \n",
    "# racon is used to polish the assemblies, input includes the filtered long reads and alignment file and the output \n",
    "racon cleaned_reads.fastq alignment.sam spades_output/contigs.fasta > polished_contigs.fasta\n",
    "# The racon environment is deactivated \n",
    "conda deactivate \n",
    "quast /home/hanaj/data/polished_contigs.fasta -o /home/hanaj/data/quast_output\n",
    "# A single contig was seen which allowed for annotation. \n"
   ]
  },
  {
   "attachments": {},
   "cell_type": "markdown",
   "metadata": {},
   "source": [
    "# Annotation with prokka\n",
    "\n"
   ]
  },
  {
   "cell_type": "code",
   "execution_count": null,
   "metadata": {},
   "outputs": [],
   "source": [
    "conda install -c conda-forge -c bioconda -c defaults prokka\n",
    "# a new directory for prokka \n",
    "mkdir prokka_output\n",
    "# changing into the newly created directory \n",
    "cd prokka_output\n",
    "# running Prokka with the newly isolated strain and the \n",
    "# Prokka annotation commands with relative paths\n",
    "prokka --outdir ./GCA_000204195.2 --prefix GCA_000204195.2 ../GCA_000204195.2_ASM20419v1_genomic.fna\n",
    "prokka --outdir ./GCA_000204215.2 --prefix GCA_000204215.2 ../GCA_000204215.2_ASM20421v2_genomic.fna     \n",
    "prokka --outdir ./GCF_000204215.1 --prefix GCF_000204215.1 ../GCF_000204215.1_ASM20421v2_genomic.fna\n",
    "prokka --outdir ./GCF_000204195.1 --prefix GCF_000204195.1 ../GCF_000204195.1_ASM20419v1_genomic.fna\n",
    "prokka --outdir ./Acidovoraxradicis --prefix Acidovoraxradicis ../polished_contigs.fasta\n"
   ]
  },
  {
   "cell_type": "markdown",
   "metadata": {},
   "source": [
    "# Annotation with pgap "
   ]
  },
  {
   "cell_type": "code",
   "execution_count": null,
   "metadata": {},
   "outputs": [],
   "source": [
    "\n",
    "#package list being updated \n",
    "sudo apt-get update\n",
    "# Prerequisites being installed \n",
    "# dockers official gpg key being added \n",
    "sudo mkdir -p /etc/apt/keyrings\n",
    "curl -fsSL https://download.docker.com/linux/ubuntu/gpg | sudo gpg --dearmor -o /etc/apt/keyrings/docker.gpg\n",
    "# docker repository being set up\n",
    "echo \\\n",
    "  \"deb [arch=$(dpkg --print-architecture) signed-by=/etc/apt/keyrings/docker.gpg] https://download.docker.com/linux/ubuntu \\\n",
    "  $(lsb_release -cs) stable\" | sudo tee /etc/apt/sources.list.d/docker.list > /dev/null\n",
    "\n",
    "# package list being updated \n",
    "sudo apt-get update\n",
    "# docker engine being installed \n",
    "sudo apt-get install docker-ce docker-ce-cli containerd.io docker-buildx-plugin docker-compose-plugin\n",
    "\n",
    "# docker being enabled and started \n",
    "sudo systemctl start docker\n",
    "sudo systemctl enable docker\n",
    "# docker installation being verified \n",
    "# Test the installation of docker \n",
    "docker run hello-world\n",
    "# navigating to the directory tht pgap.py is \n",
    "cd /path/to/pgap.py\n",
    "# ensuring the script is excutable\n",
    "chmod +x pgap.py\n",
    "# verification of the execution permissions \n",
    "ls -l pgap.py\n",
    "# script run\n",
    "./pgap.py -r -o /home/hanaj/data/pgap_annotation/pgap_output -d /home/hanaj/data/input_data input.yaml\n"
   ]
  },
  {
   "attachments": {},
   "cell_type": "markdown",
   "metadata": {},
   "source": [
    "# Busco"
   ]
  },
  {
   "cell_type": "code",
   "execution_count": null,
   "metadata": {},
   "outputs": [],
   "source": [
    "# BUSCO was used to assess the completeness of the genome assemblies. \n",
    "The bacteria kingdom was specified and the genome database was used. \n",
    "# -i specifies the input file (genome in FASTA format) \n",
    "# -o specifies the output directory name \n",
    "# -m specifies the mode (genome mode)\n",
    " # -l specifies the lineage dataset (bacteria_odb10 is used here)\n",
    "\n",
    "busco -i polished_contigs .fasta -o Genome_Acidovoraxradicis -m genome -l bacteria_odb10\n",
    "busco -i GCA_020510705.1_ASM2051070v1_genomic.fna -o Genome_GCA_020510705.1 -m genome -l bacteria_odb10\n",
    "busco -i GCA_000204195.2_ASM20419v1_genomic.fna -o Genome_GCA_000204195.2 -m genome -l bacteria_odb10\n",
    "busco -i GCA_000204215.2_ASM20421v2_genomic.fna -o Genome_GCA_000204215.2 -m genome -l bacteria_odb10\n",
    "# These commands assess the completeness of various protein assemblies, specifying the bacteria kingdom and using the protein database. \n",
    "# -m specifies the mode (protein mode)\n",
    "# Corrected command for protein mode\n",
    "busco -i acidovorax_protein.faa -o strain_Acidovoraxradicis_protein -m protein -l bacteria_odb10\n",
    "busco -i GCA_020510705.1_protein.faa -o strain_GCA_020510705.1_protein -m protein -l bacteria_odb10\n",
    "busco -i GCF_000204195.1_protein.faa -o strain_GCF_000204195.1_protein -m protein -l bacteria_odb10\n",
    "busco -i GCF_000204215.1_protein.faa -o strain_GCF_000204215.1_protein -m protein -l bacteria_odb10\n",
    "\n",
    "# preparation of the Busco summaries to be visualised \n",
    "\n",
    "# This script is what allows for the summary plots of the Busco script to be generated, script is copied to the Busco summries directory for the genome database  ones\n",
    "mkdir -p ~/data/BUSCO_summaries/scripts \n",
    "cp generate_plot.py ~/data/BUSCO_summaries/scripts/\n",
    "\n",
    "# changing to the directory where the Busco summaries are . \n",
    "cd ~/data/BUSCO_summaries\n",
    "# plot is generated for the busco summaries within the current directory\n",
    "python3 scripts/generate_plot.py -wd .\n",
    "# visualisation for the protein database. \n",
    "# a directory is created for the storage of the Busco summaries for the protein database\n",
    "mkdir -p ~/data/BUSCO_summaries_proteins_2/scripts \n",
    "cp /home/hanaj/miniconda3/envs/busco_env/bin/generate_plot.py ~/data/BUSCO_summaries_proteins_2/scripts/\n",
    "# changing to the directory and generating a plot for the proteins database run \n",
    "cd ~/data/BUSCO_summaries_proteins_2 \n",
    "python3 scripts/generate_plot.py -wd .\n"
   ]
  },
  {
   "cell_type": "markdown",
   "metadata": {},
   "source": [
    "# Roary pangenome analysis "
   ]
  },
  {
   "cell_type": "code",
   "execution_count": null,
   "metadata": {},
   "outputs": [],
   "source": [
    "#creating roary environment \n",
    "conda create -n roary_env python=3.8\n",
    "# activating the new environment \n",
    "conda activate roary_env\n",
    "mkdir roary_dir\n",
    "cd roary_dir\n",
    "# The Prokka annotated files for the newly isolated strain and NCBI downloaded strains were manually moved to the new directory.\n",
    "# default parameters were used for the annotation\n",
    "roary *.gff\n"
   ]
  }
 ],
 "metadata": {
  "language_info": {
   "name": "python"
  },
  "orig_nbformat": 4
 },
 "nbformat": 4,
 "nbformat_minor": 2
}
